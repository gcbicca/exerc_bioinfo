{
  "nbformat": 4,
  "nbformat_minor": 0,
  "metadata": {
    "colab": {
      "provenance": [],
      "authorship_tag": "ABX9TyMr2SVKaZdFijhhj6o8flKb",
      "include_colab_link": true
    },
    "kernelspec": {
      "name": "python3",
      "display_name": "Python 3"
    },
    "language_info": {
      "name": "python"
    }
  },
  "cells": [
    {
      "cell_type": "markdown",
      "metadata": {
        "id": "view-in-github",
        "colab_type": "text"
      },
      "source": [
        "<a href=\"https://colab.research.google.com/github/gcbicca/exerc_bioinfo/blob/main/rosalind_RNA_splicing.ipynb\" target=\"_parent\"><img src=\"https://colab.research.google.com/assets/colab-badge.svg\" alt=\"Open In Colab\"/></a>"
      ]
    },
    {
      "cell_type": "code",
      "execution_count": null,
      "metadata": {
        "id": "RlscSsNh5ZDk"
      },
      "outputs": [],
      "source": [
        "from Bio.Seq import Seq\n",
        "from Bio import SeqIO\n",
        "\n",
        "instream = SeqIO.parse(\"rosalind_splc.txt\",\"fasta\")\n",
        "target = str(instream.next().seq)\n",
        "\n",
        "for intron in instream:\n",
        "    target = target.replace(str(intron.seq),\"\")\n",
        "\n",
        "print Seq(target).translate()[:-1]"
      ]
    }
  ]
}
