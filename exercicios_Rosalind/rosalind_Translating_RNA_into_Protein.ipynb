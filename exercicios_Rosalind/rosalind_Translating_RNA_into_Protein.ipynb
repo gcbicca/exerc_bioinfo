{
  "nbformat": 4,
  "nbformat_minor": 0,
  "metadata": {
    "colab": {
      "provenance": [],
      "authorship_tag": "ABX9TyPkTG4LVbXOBTQsl7CD8P/j",
      "include_colab_link": true
    },
    "kernelspec": {
      "name": "python3",
      "display_name": "Python 3"
    },
    "language_info": {
      "name": "python"
    }
  },
  "cells": [
    {
      "cell_type": "markdown",
      "metadata": {
        "id": "view-in-github",
        "colab_type": "text"
      },
      "source": [
        "<a href=\"https://colab.research.google.com/github/gcbicca/exerc_bioinfo/blob/main/rosalind_Translating_RNA_into_Protein.ipynb\" target=\"_parent\"><img src=\"https://colab.research.google.com/assets/colab-badge.svg\" alt=\"Open In Colab\"/></a>"
      ]
    },
    {
      "cell_type": "code",
      "execution_count": null,
      "metadata": {
        "id": "FR0g7HT-qV-S"
      },
      "outputs": [],
      "source": [
        "m_rna = \"AUGGUCUACAUAGCUGACAAACAGCACGUAGCAAUCGGUCGAAUCUCGAGAGGCAUAUGGUCACAUGUUCAAAGUUUGCGCCUAGAUCGGUCGAA\""
      ]
    },
    {
      "cell_type": "code",
      "source": [
        "codons_rna = {'UUU': 'F',   'CUU': 'L',      'AUU': 'I',      'GUU': 'V',\n",
        "'UUC': 'F',  'CUC': 'L',      'AUC': 'I',     'GUA': 'V',  \n",
        "'GUC': 'V',   'AUA': 'I',    'CUA': 'L',      'UUG': 'L', \n",
        "'UUA': 'L',   'CUG' :'L',       'AUG': 'M',      'GUG': 'V',\n",
        "'UCU': 'S',   'CCU': 'P',      'ACU': 'T',      'GCU': 'A',\n",
        "'UCC': 'S',   'CCC': 'P',      'ACC': 'T',      'GCC': 'A',\n",
        "'UCA': 'S',   'CCA': 'P',      'ACA': 'T',      'GCA': 'A',\n",
        "'UCG': 'S',   'CCG': 'P',      'ACG': 'T',      'GCG': 'A',\n",
        "'UAU': 'Y',   'CAU': 'H',      'AAU': 'N',      'GAU': 'D',\n",
        "'UAC': 'Y',   'CAC': 'H',      'AAC': 'N',      'GAC': 'D',\n",
        "'UAA': 'Stop',   'CAA': 'Q',      'AAA': 'K',      'GAA': 'E',\n",
        "'UAG': 'Stop',   'CAG': 'Q',      'AAG': 'K',      'GAG': 'E',\n",
        "'UGU': 'C',   'CGU': 'R',      'AGU': 'S',      'GGU': 'G',\n",
        "'UGC': 'C',   'CGC': 'R',      'AGC': 'S',      'GGC': 'G',\n",
        "'UGA': 'Stop',   'CGA': 'R',      'AGA': 'R',      'GGA': 'G',\n",
        "'UGG': 'W',   'CGG': 'R',      'AGG': 'R',      'GGG': 'G'}"
      ],
      "metadata": {
        "id": "fwLAWirZr28Y"
      },
      "execution_count": null,
      "outputs": []
    },
    {
      "cell_type": "code",
      "source": [
        "codons = [m_rna[x:x+3] for x in range(0, len(m_rna), 3)]\n",
        "sequence = ''\n",
        "for codon in codons:\n",
        "  protein = codons_rna[codon]\n",
        "  if protein == 'Stop':\n",
        "    break\n",
        "  sequence += protein\n"
      ],
      "metadata": {
        "id": "W5oZTib7uGWO",
        "colab": {
          "base_uri": "https://localhost:8080/",
          "height": 235
        },
        "outputId": "d514ee09-22f4-4382-9827-26d6d308f18b"
      },
      "execution_count": null,
      "outputs": [
        {
          "output_type": "error",
          "ename": "KeyError",
          "evalue": "ignored",
          "traceback": [
            "\u001b[0;31m---------------------------------------------------------------------------\u001b[0m",
            "\u001b[0;31mKeyError\u001b[0m                                  Traceback (most recent call last)",
            "\u001b[0;32m<ipython-input-15-3c0a29ac6409>\u001b[0m in \u001b[0;36m<module>\u001b[0;34m\u001b[0m\n\u001b[1;32m      2\u001b[0m \u001b[0msequence\u001b[0m \u001b[0;34m=\u001b[0m \u001b[0;34m''\u001b[0m\u001b[0;34m\u001b[0m\u001b[0;34m\u001b[0m\u001b[0m\n\u001b[1;32m      3\u001b[0m \u001b[0;32mfor\u001b[0m \u001b[0mcodon\u001b[0m \u001b[0;32min\u001b[0m \u001b[0mcodons\u001b[0m\u001b[0;34m:\u001b[0m\u001b[0;34m\u001b[0m\u001b[0;34m\u001b[0m\u001b[0m\n\u001b[0;32m----> 4\u001b[0;31m   \u001b[0mprotein\u001b[0m \u001b[0;34m=\u001b[0m \u001b[0mcodons_rna\u001b[0m\u001b[0;34m[\u001b[0m\u001b[0mcodon\u001b[0m\u001b[0;34m]\u001b[0m\u001b[0;34m\u001b[0m\u001b[0;34m\u001b[0m\u001b[0m\n\u001b[0m\u001b[1;32m      5\u001b[0m   \u001b[0;32mif\u001b[0m \u001b[0mprotein\u001b[0m \u001b[0;34m==\u001b[0m \u001b[0;34m'Stop'\u001b[0m\u001b[0;34m:\u001b[0m\u001b[0;34m\u001b[0m\u001b[0;34m\u001b[0m\u001b[0m\n\u001b[1;32m      6\u001b[0m     \u001b[0;32mbreak\u001b[0m\u001b[0;34m\u001b[0m\u001b[0;34m\u001b[0m\u001b[0m\n",
            "\u001b[0;31mKeyError\u001b[0m: 'AA'"
          ]
        }
      ]
    },
    {
      "cell_type": "code",
      "source": [
        "print(sequence)"
      ],
      "metadata": {
        "colab": {
          "base_uri": "https://localhost:8080/"
        },
        "id": "ITMjWSQuiNFA",
        "outputId": "8ad9c440-f4f8-4f24-dd2b-fc96332f1e16"
      },
      "execution_count": null,
      "outputs": [
        {
          "output_type": "stream",
          "name": "stdout",
          "text": [
            "YQMYRLFVVHR\n"
          ]
        }
      ]
    },
    {
      "cell_type": "code",
      "source": [
        "result = [codons_rna[codon] for codon in codons]"
      ],
      "metadata": {
        "colab": {
          "base_uri": "https://localhost:8080/"
        },
        "id": "Q9cy-9nkwhXI",
        "outputId": "60f5d43e-881a-4a7e-a127-018c83c2209e"
      },
      "execution_count": null,
      "outputs": [
        {
          "output_type": "execute_result",
          "data": {
            "text/plain": [
              "['M',\n",
              " 'A',\n",
              " 'M',\n",
              " 'A',\n",
              " 'P',\n",
              " 'R',\n",
              " 'T',\n",
              " 'E',\n",
              " 'I',\n",
              " 'N',\n",
              " 'S',\n",
              " 'T',\n",
              " 'R',\n",
              " 'I',\n",
              " 'N',\n",
              " 'G',\n",
              " 'Stop']"
            ]
          },
          "metadata": {},
          "execution_count": 21
        }
      ]
    }
  ]
}
