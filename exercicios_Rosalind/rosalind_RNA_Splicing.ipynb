{
  "nbformat": 4,
  "nbformat_minor": 0,
  "metadata": {
    "colab": {
      "provenance": [],
      "authorship_tag": "ABX9TyNy/+NwF/TS9/Y7Xt9nlUsx",
      "include_colab_link": true
    },
    "kernelspec": {
      "name": "python3",
      "display_name": "Python 3"
    },
    "language_info": {
      "name": "python"
    }
  },
  "cells": [
    {
      "cell_type": "markdown",
      "metadata": {
        "id": "view-in-github",
        "colab_type": "text"
      },
      "source": [
        "<a href=\"https://colab.research.google.com/github/gcbicca/exerc_bioinfo/blob/main/rosalind_RNA_Splicing.ipynb\" target=\"_parent\"><img src=\"https://colab.research.google.com/assets/colab-badge.svg\" alt=\"Open In Colab\"/></a>"
      ]
    },
    {
      "cell_type": "code",
      "execution_count": null,
      "metadata": {
        "id": "1YTI8OgwmPLF"
      },
      "outputs": [],
      "source": [
        "dna_string = 'ATGGTCTACATAGCTGACAAACAGCACGTAGCAATCGGTCGAATCTCGAGAGGCATATGGTCACATGATCGGTCGAGCGTGTTTCAAAGTTTGCGCCTAG'"
      ]
    },
    {
      "cell_type": "code",
      "source": [
        "print(len(dna_string))"
      ],
      "metadata": {
        "colab": {
          "base_uri": "https://localhost:8080/"
        },
        "id": "kA9_Sv-Inldu",
        "outputId": "e072c8aa-7d7a-4e25-994f-bb9e410a11d1"
      },
      "execution_count": null,
      "outputs": [
        {
          "output_type": "stream",
          "name": "stdout",
          "text": [
            "100\n"
          ]
        }
      ]
    },
    {
      "cell_type": "code",
      "source": [
        "intron ='ATCGGTCGAA'\n",
        "intron2 = 'ATCGGTCGAGCGTGT'"
      ],
      "metadata": {
        "id": "ggIzIDa5mZ-U"
      },
      "execution_count": null,
      "outputs": []
    },
    {
      "cell_type": "code",
      "source": [
        "if intron in dna_string:\n",
        "  dna_m = dna_string.replace(intron, '')\n",
        "  print(len(dna_m))\n",
        "if intron2 in dna_m:\n",
        "  dna_m_pronto = dna_m.replace(intron2, '')\n",
        "  print(dna_m_pronto)\n",
        "  print(len(dna_m_pronto))"
      ],
      "metadata": {
        "id": "dozs9OjZmpBH",
        "colab": {
          "base_uri": "https://localhost:8080/"
        },
        "outputId": "f4d6f113-b537-4922-e372-5d9c584e9026"
      },
      "execution_count": null,
      "outputs": [
        {
          "output_type": "stream",
          "name": "stdout",
          "text": [
            "90\n",
            "ATGGTCTACATAGCTGACAAACAGCACGTAGCATCTCGAGAGGCATATGGTCACATGTTCAAAGTTTGCGCCTAG\n",
            "75\n"
          ]
        }
      ]
    },
    {
      "cell_type": "code",
      "source": [
        "print(len(dna_m_pronto))"
      ],
      "metadata": {
        "colab": {
          "base_uri": "https://localhost:8080/"
        },
        "id": "h3pcf5S-niwd",
        "outputId": "3a4daa60-ab59-46ff-d96d-0d7669160e9f"
      },
      "execution_count": null,
      "outputs": [
        {
          "output_type": "stream",
          "name": "stdout",
          "text": [
            "75\n"
          ]
        }
      ]
    },
    {
      "cell_type": "code",
      "source": [
        "print(dna_m_pronto)"
      ],
      "metadata": {
        "id": "kEeKfsCkn9Sx",
        "outputId": "5cb83ca5-d588-4091-bf12-4db6836c7374",
        "colab": {
          "base_uri": "https://localhost:8080/"
        }
      },
      "execution_count": null,
      "outputs": [
        {
          "output_type": "stream",
          "name": "stdout",
          "text": [
            "ATGGTCTACATAGCTGACAAACAGCACGTAGCATCTCGAGAGGCATATGGTCACATGTTCAAAGTTTGCGCCTAG\n"
          ]
        }
      ]
    }
  ]
}
