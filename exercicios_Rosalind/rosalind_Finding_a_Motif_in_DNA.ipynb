{
  "nbformat": 4,
  "nbformat_minor": 0,
  "metadata": {
    "colab": {
      "provenance": [],
      "authorship_tag": "ABX9TyMNEWNL7DrMdKAeh9O8TuRi",
      "include_colab_link": true
    },
    "kernelspec": {
      "name": "python3",
      "display_name": "Python 3"
    },
    "language_info": {
      "name": "python"
    }
  },
  "cells": [
    {
      "cell_type": "markdown",
      "metadata": {
        "id": "view-in-github",
        "colab_type": "text"
      },
      "source": [
        "<a href=\"https://colab.research.google.com/github/gcbicca/exerc_bioinfo/blob/main/rosalind_Finding_a_Motif_in_DNA.ipynb\" target=\"_parent\"><img src=\"https://colab.research.google.com/assets/colab-badge.svg\" alt=\"Open In Colab\"/></a>"
      ]
    },
    {
      "cell_type": "code",
      "execution_count": null,
      "metadata": {
        "id": "skmFFVUqqRjt"
      },
      "outputs": [],
      "source": [
        "dna = 'CGACGCACAATACGCACAACACGCACACACGCACAAAGGGAACGCACACATGAAATACGCACAACGCACAATTCGGTACGCACAGTACGCACAGGACAACGCACAAACGCACAGGACGCACACCTACGCACATTACGCACACTGACGCACAACGCACAACGCACAGTAACGCACAGTACGCACATGACGCACATCCACGCACAAAACGCACAAACGCACAACGCACATGCTACGCACAAGGGCGCACGCACAAACGCACACCAACGCACATTACGCACACAGTTCACGCACATAGCACGCACAACGCACAAACGCACAAGACGCACAGTACGCACAACGCACAACGCACAGGAAGACGCACATCGTCACGCACAACGCACATACGCACACACGCACACACGCACAACGCACAGACGCACACACGCACAAACGCACATACTACGCACAACGCACACGGATCTACGCACAAAGTGCGAACGCACACGAACGCACACACGCACAACGCACAAAAATCCACGCACAGGTGACGCACAACGCACATCAGAAATCTACGCACAACGCACAAGATACGCACAACGCACAACTATAGACTACGCACAACGCACAGACGCACACCCAACCTTCTCCCCCACGCACATAACGCACAAGGGACGCACACTCACGCACAACGCACAACGTTACGCACAGATAACGCACAACGCACAGACAACGCACATGCAACGCACAGGAGACGCACAACGCACATTCACGCACAACAAGTACGCACATTTACGCACAGGGTACGCACATACGCACAACCGGACGCACAACTCTAACGCACAACGCACATACGCACAACGCACATAACGCACACGCATACACGCACATACGCACACACACGCACAGCACGCACACACGCACA'\n",
        "motif = 'ACGCACAAC'"
      ]
    },
    {
      "cell_type": "code",
      "source": [
        "sequence = []\n",
        "for i in range(len(dna)):\n",
        "  if dna[i : i+len(motif)] == motif:\n",
        "    sequence.append(str(i +1))\n",
        "sequence2 = ' '.join(sequence)"
      ],
      "metadata": {
        "id": "Xj-UQtwHqaCa"
      },
      "execution_count": null,
      "outputs": []
    },
    {
      "cell_type": "code",
      "source": [
        "sequence2"
      ],
      "metadata": {
        "colab": {
          "base_uri": "https://localhost:8080/",
          "height": 53
        },
        "id": "9_ZZ-72VqegE",
        "outputId": "5c81c83d-7b5b-45b5-95aa-84ebe6abca4e"
      },
      "execution_count": null,
      "outputs": [
        {
          "output_type": "execute_result",
          "data": {
            "text/plain": [
              "'12 57 145 152 214 297 330 337 368 399 441 495 527 551 569 576 593 661 668 691 731 748 790 802 815 830'"
            ],
            "application/vnd.google.colaboratory.intrinsic+json": {
              "type": "string"
            }
          },
          "metadata": {},
          "execution_count": 19
        }
      ]
    }
  ]
}
