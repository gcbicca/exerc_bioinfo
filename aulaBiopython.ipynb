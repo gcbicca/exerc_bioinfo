{
  "nbformat": 4,
  "nbformat_minor": 0,
  "metadata": {
    "colab": {
      "provenance": [],
      "authorship_tag": "ABX9TyPp+TTzGoIrhgZkjnsVyzKj",
      "include_colab_link": true
    },
    "kernelspec": {
      "name": "python3",
      "display_name": "Python 3"
    },
    "language_info": {
      "name": "python"
    }
  },
  "cells": [
    {
      "cell_type": "markdown",
      "metadata": {
        "id": "view-in-github",
        "colab_type": "text"
      },
      "source": [
        "<a href=\"https://colab.research.google.com/github/gcbicca/exerc_bioinfo/blob/main/aulaBiopython.ipynb\" target=\"_parent\"><img src=\"https://colab.research.google.com/assets/colab-badge.svg\" alt=\"Open In Colab\"/></a>"
      ]
    },
    {
      "cell_type": "code",
      "execution_count": null,
      "metadata": {
        "colab": {
          "base_uri": "https://localhost:8080/"
        },
        "id": "9onEcoP72Kww",
        "outputId": "71288760-d735-4d5a-ccda-50bd319b412f"
      },
      "outputs": [
        {
          "output_type": "stream",
          "name": "stdout",
          "text": [
            "Looking in indexes: https://pypi.org/simple, https://us-python.pkg.dev/colab-wheels/public/simple/\n",
            "Collecting biopython\n",
            "  Downloading biopython-1.80-cp38-cp38-manylinux_2_17_x86_64.manylinux2014_x86_64.whl (3.1 MB)\n",
            "\u001b[2K     \u001b[90m━━━━━━━━━━━━━━━━━━━━━━━━━━━━━━━━━━━━━━━━\u001b[0m \u001b[32m3.1/3.1 MB\u001b[0m \u001b[31m28.9 MB/s\u001b[0m eta \u001b[36m0:00:00\u001b[0m\n",
            "\u001b[?25hRequirement already satisfied: numpy in /usr/local/lib/python3.8/dist-packages (from biopython) (1.21.6)\n",
            "Installing collected packages: biopython\n",
            "Successfully installed biopython-1.80\n"
          ]
        }
      ],
      "source": [
        "!pip install biopython"
      ]
    },
    {
      "cell_type": "code",
      "source": [
        "from Bio.Seq import Seq"
      ],
      "metadata": {
        "id": "4Y86nKfO2U91"
      },
      "execution_count": null,
      "outputs": []
    },
    {
      "cell_type": "code",
      "source": [
        "dnaM = Seq('ATGCGGCGATCCGCGATGCGATGCGTATATAAA')"
      ],
      "metadata": {
        "id": "Nl1VHqsv2imS"
      },
      "execution_count": null,
      "outputs": []
    },
    {
      "cell_type": "code",
      "source": [
        "dnaM"
      ],
      "metadata": {
        "colab": {
          "base_uri": "https://localhost:8080/"
        },
        "id": "GWdArX6I2wuV",
        "outputId": "8859d56f-06c5-4ebb-a7b5-ec4fe8b8b248"
      },
      "execution_count": null,
      "outputs": [
        {
          "output_type": "execute_result",
          "data": {
            "text/plain": [
              "Seq('ATGCGGCGATCCGCGATGCGATGCGTATATAAA')"
            ]
          },
          "metadata": {},
          "execution_count": 16
        }
      ]
    },
    {
      "cell_type": "code",
      "source": [
        "dnaC = dnaM.complement()"
      ],
      "metadata": {
        "id": "i76Ym9fb2zZK"
      },
      "execution_count": null,
      "outputs": []
    },
    {
      "cell_type": "code",
      "source": [
        "dnaC"
      ],
      "metadata": {
        "colab": {
          "base_uri": "https://localhost:8080/"
        },
        "id": "g0nc_Qlg24Cx",
        "outputId": "a9fd71a8-0bb6-4ca9-a148-0ffd9abb9820"
      },
      "execution_count": null,
      "outputs": [
        {
          "output_type": "execute_result",
          "data": {
            "text/plain": [
              "Seq('TACGCCGCTAGGCGCTACGCTACGCATATATTT')"
            ]
          },
          "metadata": {},
          "execution_count": 18
        }
      ]
    },
    {
      "cell_type": "code",
      "source": [
        "rnaMen= dnaC.transcribe()"
      ],
      "metadata": {
        "id": "VOLlN8r-246j"
      },
      "execution_count": null,
      "outputs": []
    },
    {
      "cell_type": "code",
      "source": [
        "rnaMen"
      ],
      "metadata": {
        "colab": {
          "base_uri": "https://localhost:8080/"
        },
        "id": "MmLjRkB53FnQ",
        "outputId": "50603d4e-9aa4-40e0-d224-442037496991"
      },
      "execution_count": null,
      "outputs": [
        {
          "output_type": "execute_result",
          "data": {
            "text/plain": [
              "Seq('UACGCCGCUAGGCGCUACGCUACGCAUAUAUUU')"
            ]
          },
          "metadata": {},
          "execution_count": 20
        }
      ]
    },
    {
      "cell_type": "code",
      "source": [
        "prot = rnaMen.translate()\n",
        "# Posso usar o to_stop=True para parar no stop codon"
      ],
      "metadata": {
        "id": "7fBRRIkp3LMO"
      },
      "execution_count": null,
      "outputs": []
    },
    {
      "cell_type": "code",
      "source": [
        "prot"
      ],
      "metadata": {
        "colab": {
          "base_uri": "https://localhost:8080/"
        },
        "id": "hx3boIir3R_p",
        "outputId": "6ab70d27-dc84-42bb-c8bc-5207e51062f3"
      },
      "execution_count": null,
      "outputs": [
        {
          "output_type": "execute_result",
          "data": {
            "text/plain": [
              "Seq('YAARRYATHIF')"
            ]
          },
          "metadata": {},
          "execution_count": 22
        }
      ]
    },
    {
      "cell_type": "code",
      "source": [
        "from Bio import pairwise2"
      ],
      "metadata": {
        "colab": {
          "base_uri": "https://localhost:8080/"
        },
        "id": "klVTg8bL4OEX",
        "outputId": "eb1f3e31-c29b-4049-99a1-cf115c9a400e"
      },
      "execution_count": null,
      "outputs": [
        {
          "output_type": "stream",
          "name": "stderr",
          "text": [
            "/usr/local/lib/python3.8/dist-packages/Bio/pairwise2.py:278: BiopythonDeprecationWarning: Bio.pairwise2 has been deprecated, and we intend to remove it in a future release of Biopython. As an alternative, please consider using Bio.Align.PairwiseAligner as a replacement, and contact the Biopython developers if you still need the Bio.pairwise2 module.\n",
            "  warnings.warn(\n"
          ]
        }
      ]
    },
    {
      "cell_type": "code",
      "source": [
        "seq1 = Seq(\"ATGGTCTACATAGCTGACAAACAGCACGTAGCAATCGGTCGAATCTCGAGAGGCATATGGTCACATGATCGGTCGAGCGTGTTTCAAAGTTTGCGCCTAG\")\n",
        "seq2 = Seq(\"ATCGGTCGAA\")"
      ],
      "metadata": {
        "id": "pIPy_AAy42fk"
      },
      "execution_count": null,
      "outputs": []
    },
    {
      "cell_type": "code",
      "source": [
        "align = pairwise2.align.globalms(seq1,seq2, 5, -4, -2, -0.5)"
      ],
      "metadata": {
        "id": "fi2wQhq75FBU"
      },
      "execution_count": null,
      "outputs": []
    },
    {
      "cell_type": "code",
      "source": [
        "align"
      ],
      "metadata": {
        "colab": {
          "base_uri": "https://localhost:8080/"
        },
        "id": "Iu4O5h8Y5Xkc",
        "outputId": "9b6481b0-722c-4bee-e4d6-b690f8350e37"
      },
      "execution_count": null,
      "outputs": [
        {
          "output_type": "execute_result",
          "data": {
            "text/plain": [
              "[Alignment(seqA='ATGGTCTACATAGCTGACAAACAGCACGTAGCAATCGGTCGAATCTCGAGAGGCATATGGTCACATGATCGGTCGAGCGTGTTTCAAAGTTTGCGCCTAG', seqB='-------------------------------------------------------------------ATCGGTCGAGCGTGT------------------', score=29.5, start=0, end=100),\n",
              " Alignment(seqA='ATGGTCTACATAGCTGACAAACAGCACGTAGCAATCGGTCGAATCTCGAGAGGCATATGGTCACATGATCGGTCGAGCGTGTTTCAAAGTTTGCGCCTAG', seqB='A-------------------------------------------------------------------TCGGTCGAGCGTGT------------------', score=29.5, start=0, end=100),\n",
              " Alignment(seqA='ATGGTCTACATAGCTGACAAACAGCACGTAGCAATCGGTCGAATCTCGAGAGGCATATGGTCACATGATCGGTCGAGCGTGTTTCAAAGTTTGCGCCTAG', seqB='AT-------------------------------------------------------------------CGGTCGAGCGTGT------------------', score=29.5, start=0, end=100)]"
            ]
          },
          "metadata": {},
          "execution_count": 12
        }
      ]
    },
    {
      "cell_type": "code",
      "source": [
        "print(pairwise2.format_alignment(*align[0]))"
      ],
      "metadata": {
        "colab": {
          "base_uri": "https://localhost:8080/"
        },
        "id": "SoHxLrsu5nDQ",
        "outputId": "0a53781d-a778-4e79-b114-029afe21127b"
      },
      "execution_count": null,
      "outputs": [
        {
          "output_type": "stream",
          "name": "stdout",
          "text": [
            "ATGGTCTACATAGCTGACAAACAGCACGTAGCAATCGGTCGAATCTCGAGAGGCATATGGTCACATGATCGGTCGAGCGTGTTTCAAAGTTTGCGCCTAG\n",
            "                                 ||||||||||                                                         \n",
            "---------------------------------ATCGGTCGAA---------------------------------------------------------\n",
            "  Score=2\n",
            "\n"
          ]
        }
      ]
    },
    {
      "cell_type": "code",
      "source": [
        "from Bio.Align import substitution_matrices as sm"
      ],
      "metadata": {
        "id": "96HbzzHa6JiS"
      },
      "execution_count": null,
      "outputs": []
    },
    {
      "cell_type": "code",
      "source": [
        "blosum62 = sm.load(\"BLOSUM62\")"
      ],
      "metadata": {
        "id": "G29K3T9G8uPX"
      },
      "execution_count": null,
      "outputs": []
    },
    {
      "cell_type": "code",
      "source": [
        "blosum62"
      ],
      "metadata": {
        "id": "kbbWmeWO-7zl"
      },
      "execution_count": null,
      "outputs": []
    },
    {
      "cell_type": "code",
      "source": [
        "import random\n",
        "from Bio.Data.IUPACData import protein_letters_1to3\n",
        "\n",
        "# Lista de todos os aminoácidos\n",
        "amino_acids = list(protein_letters_1to3.keys())\n",
        "\n",
        "# Tamanho da seqüência aleatória a ser gerada\n",
        "length = 100\n",
        "\n",
        "# Gera a seqüência aleatória\n",
        "rand_seq = ''.join(random.choices(amino_acids, k=length))\n",
        "\n",
        "print(\"Seqüência aleatória de aminoácidos:\")\n",
        "print(rand_seq)\n"
      ],
      "metadata": {
        "colab": {
          "base_uri": "https://localhost:8080/"
        },
        "id": "snXXQDZi_Ayo",
        "outputId": "0a8fc234-d1d7-4ed9-858f-7e15c92a6b2a"
      },
      "execution_count": null,
      "outputs": [
        {
          "output_type": "stream",
          "name": "stdout",
          "text": [
            "Seqüência aleatória de aminoácidos:\n",
            "SAQYKNKSASMWRTGWRHDVCEMVIGWHYQSASSDLDMILLGVTPKNLSDLHWKYARKVILYCAPRNFDFVIHSSTAGVWHVAHWQYTQCVGFGCEPIYM\n"
          ]
        }
      ]
    },
    {
      "cell_type": "code",
      "source": [
        "seq1 = Seq('SERYMDCCNSTEFSERTYAFCVTAPQWINYYMMQFPAWLGCGKNIADPYHEYNIKWHFARSQDTDGAVCVDCPSAVAAHLSVWWEEGKGLITLPKDWRPA')\n",
        "seq2 = Seq(\"SAQYKNKSASMWRTGWRHDVCEMVIGWHYQSASSDLDMILLGVTPKNLSDLHWKYARKVILYCAPRNFDFVIHSSTAGVWHVAHWQYTQCVGFGCEPIYM\")"
      ],
      "metadata": {
        "id": "Z8MOlW2b_scD"
      },
      "execution_count": null,
      "outputs": []
    },
    {
      "cell_type": "code",
      "source": [
        "align = pairwise2.align.globaldx(seq1,seq2, blosum62)"
      ],
      "metadata": {
        "id": "7qQm6-js_6o8"
      },
      "execution_count": null,
      "outputs": []
    },
    {
      "cell_type": "code",
      "source": [
        "align[0]"
      ],
      "metadata": {
        "colab": {
          "base_uri": "https://localhost:8080/"
        },
        "id": "mU243DfaAMQS",
        "outputId": "3f352d53-9391-4385-d26c-3db119f22580"
      },
      "execution_count": null,
      "outputs": [
        {
          "output_type": "execute_result",
          "data": {
            "text/plain": [
              "Alignment(seqA='S-ERYMDCC-N-STEF-SE--RT-YAF----C--VTAPQ--WINYYMMQFP-AW---LGC-----G---KNIADPY-HEYNIKWH-FARSQDTDGAVCVD--C-P-SA---VAA-HLS----VW----WE--E--GK-GLITLPK-DWRPA---', seqB='SAQ-Y----KNKS---AS-MWRTGW--RHDVCEMV----IGW--HY--Q--SA-SSDL--DMILLGVTPKNLSD--LH-----W-KYAR-K-----V-I-LYCAPRN-FDFV--IH-SSTAGVWHVAHWQYTQCVG-FG------CE--P-IYM', score=234.0, start=0, end=154)"
            ]
          },
          "metadata": {},
          "execution_count": 44
        }
      ]
    },
    {
      "cell_type": "code",
      "source": [
        "print(pairwise2.format_alignment(*align[0]))"
      ],
      "metadata": {
        "colab": {
          "base_uri": "https://localhost:8080/"
        },
        "id": "tx-I9dY3ANfC",
        "outputId": "ba557689-3e59-4b59-ee95-84345dcbe4ef"
      },
      "execution_count": null,
      "outputs": [
        {
          "output_type": "stream",
          "name": "stdout",
          "text": [
            "S-ERYMDCC-N-STEF-SE--RT-YAF----C--VTAPQ--WINYYMMQFP-AW---LGC-----G---KNIADPY-HEYNIKWH-FARSQDTDGAVCVD--C-P-SA---VAA-HLS----VW----WE--E--GK-GLITLPK-DWRPA---\n",
            "| . |     | |    |   || .      |  |      |  .|  |   |    |       |   ||..|   |     |  .|| .     | .   | | .    |   | |    ||    |.  .  |  |       .  |    \n",
            "SAQ-Y----KNKS---AS-MWRTGW--RHDVCEMV----IGW--HY--Q--SA-SSDL--DMILLGVTPKNLSD--LH-----W-KYAR-K-----V-I-LYCAPRN-FDFV--IH-SSTAGVWHVAHWQYTQCVG-FG------CE--P-IYM\n",
            "  Score=234\n",
            "\n"
          ]
        }
      ]
    },
    {
      "cell_type": "code",
      "source": [
        "from Bio import Entrez\n",
        "from Bio import SeqIO\n",
        "\"\"\"O código acima importa duas bibliotecas do pacote Biopython: Entrez e SeqIO.\n",
        "\n",
        "A biblioteca Entrez é usada para acessar os dados de sequências de DNA e proteínas armazenados no banco de dados do NCBI \n",
        "(National Center for Biotechnology Information). Ela fornece uma interface para acessar vários bancos de dados do NCBI, como o GenBank, \n",
        "e permite buscar, baixar e processar informações sobre sequências biológicas.\n",
        "\n",
        "A biblioteca SeqIO é usada para manipular as sequências biológicas que são baixadas usando a biblioteca Entrez. Ela permite a leitura, escrita \n",
        "e conversão de sequências biológicas em vários formatos, incluindo FASTA, GenBank, entre outros. Além disso, a biblioteca SeqIO permite manipular as \n",
        "sequências, como rotações, inverções, transcrições, entre outras operações.\"\"\""
      ],
      "metadata": {
        "colab": {
          "base_uri": "https://localhost:8080/",
          "height": 192
        },
        "id": "DPvoXFfxAdkE",
        "outputId": "7170b379-aa2d-4081-dfd1-ad028572acd2"
      },
      "execution_count": null,
      "outputs": [
        {
          "output_type": "execute_result",
          "data": {
            "text/plain": [
              "'O código acima importa duas bibliotecas do pacote Biopython: Entrez e SeqIO.\\n\\nA biblioteca Entrez é usada para acessar os dados de sequências de DNA e proteínas armazenados no banco de dados do NCBI \\n(National Center for Biotechnology Information). Ela fornece uma interface para acessar vários bancos de dados do NCBI, como o GenBank, \\ne permite buscar, baixar e processar informações sobre sequências biológicas.\\n\\nA biblioteca SeqIO é usada para manipular as sequências biológicas que são baixadas usando a biblioteca Entrez. Ela permite a leitura, escrita \\ne conversão de sequências biológicas em vários formatos, incluindo FASTA, GenBank, entre outros. Além disso, a biblioteca SeqIO permite manipular as \\nsequências, como rotações, inverções, transcrições, entre outras operações.'"
            ],
            "application/vnd.google.colaboratory.intrinsic+json": {
              "type": "string"
            }
          },
          "metadata": {},
          "execution_count": 5
        }
      ]
    },
    {
      "cell_type": "code",
      "source": [
        "Entrez.email = 'biccg@gmail.com'"
      ],
      "metadata": {
        "id": "DX1yYE1OOCmg"
      },
      "execution_count": null,
      "outputs": []
    },
    {
      "cell_type": "code",
      "source": [
        "handle = Entrez.esearch(db = 'nucleotide', term= 'SARS-CoV-2 human', retmax='10')\n",
        "record = Entrez.read(handle)\n",
        "\"\"\"Esse código está realizando uma busca no banco de dados \"nucleotide\" do NCBI (National Center for Biotechnology Information) usando a biblioteca BioPython.\n",
        "\n",
        "A função \"Entrez.esearch\" é usada para buscar informações no banco de dados. Alguns dos parâmetros que podem ser passados são \"db\" (banco de dados a ser pesquisado), \"term\" (termo a ser pesquisado) e \"retmax\" (número máximo de resultados a serem retornados).\n",
        "\n",
        "A função \"Entrez.read\" é usada para ler o resultado da busca em formato XML e retornar um objeto python com as informações relevantes.\n",
        "\n",
        "Nesse exemplo, a busca está sendo feita para o termo \"SARS-CoV-2 human\", e o retorno máximo será de 10 resultados.\"\"\""
      ],
      "metadata": {
        "id": "L_9YPTe9Ocwf"
      },
      "execution_count": null,
      "outputs": []
    },
    {
      "cell_type": "code",
      "source": [
        "record"
      ],
      "metadata": {
        "colab": {
          "base_uri": "https://localhost:8080/"
        },
        "id": "oJnyw4rhO4Yt",
        "outputId": "df42ebd5-a063-4e94-c90e-852dcea2847e"
      },
      "execution_count": null,
      "outputs": [
        {
          "output_type": "execute_result",
          "data": {
            "text/plain": [
              "{'Count': '3338260', 'RetMax': '10', 'RetStart': '0', 'IdList': ['2437982566', '2437982553', '2437982540', '2437982528', '2437982515', '2437982502', '2437982489', '2437982477', '2437982465', '2437982452'], 'TranslationSet': [{'From': 'SARS-CoV-2', 'To': '\"Severe acute respiratory syndrome coronavirus 2\"[Organism] OR SARS-CoV-2[All Fields]'}, {'From': 'human', 'To': '\"Homo sapiens\"[Organism] OR human[All Fields]'}], 'TranslationStack': [{'Term': '\"Severe acute respiratory syndrome coronavirus 2\"[Organism]', 'Field': 'Organism', 'Count': '6686264', 'Explode': 'Y'}, {'Term': 'SARS-CoV-2[All Fields]', 'Field': 'All Fields', 'Count': '5260673', 'Explode': 'N'}, 'OR', 'GROUP', {'Term': '\"Homo sapiens\"[Organism]', 'Field': 'Organism', 'Count': '28312015', 'Explode': 'Y'}, {'Term': 'human[All Fields]', 'Field': 'All Fields', 'Count': '54902972', 'Explode': 'N'}, 'OR', 'GROUP', 'AND', 'GROUP'], 'QueryTranslation': '(\"Severe acute respiratory syndrome coronavirus 2\"[Organism] OR SARS-CoV-2[All Fields]) AND (\"Homo sapiens\"[Organism] OR human[All Fields])'}"
            ]
          },
          "metadata": {},
          "execution_count": 76
        }
      ]
    },
    {
      "cell_type": "code",
      "source": [
        "record['IdList']"
      ],
      "metadata": {
        "colab": {
          "base_uri": "https://localhost:8080/"
        },
        "id": "OW5yQFCkO40i",
        "outputId": "4c31a16d-dc82-45ba-8c59-0e0bf7ad4919"
      },
      "execution_count": null,
      "outputs": [
        {
          "output_type": "execute_result",
          "data": {
            "text/plain": [
              "['2437982566', '2437982553', '2437982540', '2437982528', '2437982515', '2437982502', '2437982489', '2437982477', '2437982465', '2437982452']"
            ]
          },
          "metadata": {},
          "execution_count": 52
        }
      ]
    },
    {
      "cell_type": "code",
      "source": [
        "seq_handle = Entrez.efetch(db='nucleotide', rettype='fasta', id=record['IdList'])\n",
        "seq_record = SeqIO.parse(seq_handle, 'fasta')\n",
        "SeqIO.write(seq_record, 'covHuman.fasta', 'fasta')\n",
        "\"\"\"Esse código está baixando sequências genômicas do NCBI (National Center for Biotechnology Information) usando a biblioteca BioPython.\n",
        "\n",
        "A função \"Entrez.efetch\" é usada para baixar as sequências específicas de acordo com seus identificadores. Alguns dos parâmetros que podem ser passados são \"db\" (banco de dados a ser pesquisado), \"rettype\" (formato do retorno) e \"id\" (identificadores das sequências a serem baixadas).\n",
        "\n",
        "A função \"SeqIO.parse\" é usada para ler o resultado da busca em formato fasta e retornar um objeto python com as informações relevantes.\n",
        "\n",
        "A função \"SeqIO.write\" é usada para salvar as sequências baixadas em um arquivo no formato fasta.\n",
        "\n",
        "Nesse exemplo, as sequências genômicas relacionadas a \"SARS-CoV-2 human\" são baixadas do banco de dados \"Nucleotide\" no formato \"fasta\", e são salvas em um arquivo chamado \"covHuman.fasta\".\n",
        "\n",
        "\n",
        "\n",
        "\"\"\""
      ],
      "metadata": {
        "id": "AX3t709yPF5c"
      },
      "execution_count": null,
      "outputs": []
    },
    {
      "cell_type": "code",
      "source": [],
      "metadata": {
        "colab": {
          "base_uri": "https://localhost:8080/"
        },
        "id": "9P86xuZHcw6G",
        "outputId": "65cbc410-879a-4601-db1a-a0683ec87cf8"
      },
      "execution_count": null,
      "outputs": [
        {
          "output_type": "execute_result",
          "data": {
            "text/plain": [
              "<Bio.SeqIO.FastaIO.FastaIterator at 0x7fa7d9707ee0>"
            ]
          },
          "metadata": {},
          "execution_count": 78
        }
      ]
    },
    {
      "cell_type": "code",
      "source": [
        "arq = open('covHuman.fasta', 'r')\n",
        "seqs= []\n",
        "for s in SeqIO.parse(arq, 'fasta'):\n",
        "  seqs.append(s)"
      ],
      "metadata": {
        "id": "NAB1ezISYm4s"
      },
      "execution_count": null,
      "outputs": []
    },
    {
      "cell_type": "code",
      "source": [
        "seqs[0]"
      ],
      "metadata": {
        "colab": {
          "base_uri": "https://localhost:8080/"
        },
        "id": "nlXyWT2vaMt6",
        "outputId": "fdd10711-9421-4b30-9642-4a63892c2af3"
      },
      "execution_count": null,
      "outputs": [
        {
          "output_type": "execute_result",
          "data": {
            "text/plain": [
              "SeqRecord(seq=Seq('TTGTAGATCTGTTCTCTAAACGAACTTTAAAATCTGTGTGGCTGTCACTCGGCT...GTA'), id='OQ355523.1', name='OQ355523.1', description='OQ355523.1 Severe acute respiratory syndrome coronavirus 2 isolate SARS-CoV-2/human/USA/NY_MEDDAC_FD_643/2023, complete genome', dbxrefs=[])"
            ]
          },
          "metadata": {},
          "execution_count": 59
        }
      ]
    },
    {
      "cell_type": "code",
      "source": [
        "seqs[1].seq"
      ],
      "metadata": {
        "colab": {
          "base_uri": "https://localhost:8080/"
        },
        "id": "b-lGS6-PavHP",
        "outputId": "02abbcca-32b8-457b-ebe6-acf3f9cd323f"
      },
      "execution_count": null,
      "outputs": [
        {
          "output_type": "execute_result",
          "data": {
            "text/plain": [
              "Seq('TTGTAGATCTGTTCTCTAAACGAACTTTAAAATCTGTGTGGCTGTCACTCGGCT...GTA')"
            ]
          },
          "metadata": {},
          "execution_count": 63
        }
      ]
    },
    {
      "cell_type": "code",
      "source": [
        "seqs[1].seq.complement()"
      ],
      "metadata": {
        "colab": {
          "base_uri": "https://localhost:8080/"
        },
        "id": "LTO_rq-eaN5Y",
        "outputId": "7b3075da-8d13-4cff-f42b-d4bcf9920ea6"
      },
      "execution_count": null,
      "outputs": [
        {
          "output_type": "execute_result",
          "data": {
            "text/plain": [
              "Seq('AACATCTAGACAAGAGATTTGCTTGAAATTTTAGACACACCGACAGTGAGCCGA...CAT')"
            ]
          },
          "metadata": {},
          "execution_count": 65
        }
      ]
    },
    {
      "cell_type": "code",
      "source": [
        "seqs[1].seq.transcribe()"
      ],
      "metadata": {
        "colab": {
          "base_uri": "https://localhost:8080/"
        },
        "id": "twyzUnPaa5YL",
        "outputId": "d5e30b44-a3aa-465c-dde3-3ffc7fcb3d7c"
      },
      "execution_count": null,
      "outputs": [
        {
          "output_type": "execute_result",
          "data": {
            "text/plain": [
              "Seq('UUGUAGAUCUGUUCUCUAAACGAACUUUAAAAUCUGUGUGGCUGUCACUCGGCU...GUA')"
            ]
          },
          "metadata": {},
          "execution_count": 67
        }
      ]
    },
    {
      "cell_type": "code",
      "source": [
        "seqs[0].seq.transcribe().translate()"
      ],
      "metadata": {
        "colab": {
          "base_uri": "https://localhost:8080/"
        },
        "id": "BgauFCHQbE_v",
        "outputId": "486c8602-656d-42ed-8c98-3a9b3be8dd29"
      },
      "execution_count": null,
      "outputs": [
        {
          "output_type": "execute_result",
          "data": {
            "text/plain": [
              "Seq('L*ICSLNEL*NLCGCHSAACLVHSRSIINN*LLSLTGHE*LVYLLQAAYGFVRV...ILV')"
            ]
          },
          "metadata": {},
          "execution_count": 71
        }
      ]
    },
    {
      "cell_type": "code",
      "source": [
        "from Bio.SeqUtils import GC"
      ],
      "metadata": {
        "id": "tyKMtSC7bPxO"
      },
      "execution_count": null,
      "outputs": []
    },
    {
      "cell_type": "code",
      "source": [
        "gc = GC(seqs[0].seq)"
      ],
      "metadata": {
        "colab": {
          "base_uri": "https://localhost:8080/"
        },
        "id": "uhhoWhCubhfx",
        "outputId": "a22d6d07-008a-4f45-cf05-8fbf25993945"
      },
      "execution_count": null,
      "outputs": [
        {
          "output_type": "stream",
          "name": "stderr",
          "text": [
            "/usr/local/lib/python3.8/dist-packages/Bio/SeqUtils/__init__.py:144: BiopythonDeprecationWarning: GC is deprecated; please use gc_fraction instead.\n",
            "  warnings.warn(\n"
          ]
        }
      ]
    },
    {
      "cell_type": "code",
      "source": [
        "gc"
      ],
      "metadata": {
        "colab": {
          "base_uri": "https://localhost:8080/"
        },
        "id": "rOBVjnxwblAJ",
        "outputId": "d20f5710-9b70-4fad-a990-236fe1dba167"
      },
      "execution_count": null,
      "outputs": [
        {
          "output_type": "execute_result",
          "data": {
            "text/plain": [
              "37.88949458240797"
            ]
          },
          "metadata": {},
          "execution_count": 74
        }
      ]
    },
    {
      "cell_type": "code",
      "source": [
        "seq_handle = Entrez.efetch(db='nucleotide', rettype='gb', id='45478711')"
      ],
      "metadata": {
        "id": "mOZqpT7cbm51"
      },
      "execution_count": null,
      "outputs": []
    },
    {
      "cell_type": "code",
      "source": [
        "seq_record = SeqIO.parse(seq_handle, 'gb')"
      ],
      "metadata": {
        "id": "XOp96bRSeINE"
      },
      "execution_count": null,
      "outputs": []
    },
    {
      "cell_type": "code",
      "source": [
        "SeqIO.write(seq_record, 'NC_005816.gb', 'gb')"
      ],
      "metadata": {
        "colab": {
          "base_uri": "https://localhost:8080/"
        },
        "id": "nbKQmiWaeR23",
        "outputId": "ca29bf1f-f040-4d71-b2f1-64f3121c57e2"
      },
      "execution_count": null,
      "outputs": [
        {
          "output_type": "execute_result",
          "data": {
            "text/plain": [
              "1"
            ]
          },
          "metadata": {},
          "execution_count": 9
        }
      ]
    },
    {
      "cell_type": "code",
      "source": [
        "# vai baixar a biblioteca ipython o modulo diplay e o modulo image\n",
        "from IPython.display import Image\n",
        "\"\"\"from IPython.display import Image é uma importação de uma classe da biblioteca IPython, que permite exibir imagens dentro de um Jupyter Notebook. Com isso, \n",
        "você pode exibir uma imagem na\n",
        " célula do notebook bastando utilizar o código Image(filename='nome_do_arquivo.extensao').\"\"\""
      ],
      "metadata": {
        "colab": {
          "base_uri": "https://localhost:8080/",
          "height": 88
        },
        "id": "oZntgsDDeY0H",
        "outputId": "e2626ca9-ee56-487b-840b-7fff5f7f3f17"
      },
      "execution_count": null,
      "outputs": [
        {
          "output_type": "execute_result",
          "data": {
            "text/plain": [
              "\"from IPython.display import Image é uma importação de uma classe da biblioteca IPython, que permite exibir imagens dentro de um Jupyter Notebook. Com isso, \\nvocê pode exibir uma imagem na\\n célula do notebook bastando utilizar o código Image(filename='nome_do_arquivo.extensao').\""
            ],
            "application/vnd.google.colaboratory.intrinsic+json": {
              "type": "string"
            }
          },
          "metadata": {},
          "execution_count": 3
        }
      ]
    },
    {
      "cell_type": "code",
      "source": [
        "!pip install reportlab\n",
        "\"\"\"O ReportLab é uma biblioteca de código aberto para geração de documentos em PDF, popularmente utilizada para criação de relatórios. \n",
        "Ele possui uma ampla variedade de recursos, incluindo suporte para fontes TrueType, incluir imagens, desenhar formas, adicionar tabelas e muito mais. Além disso, \n",
        "ele é altamente personalizável e permite ajustar a aparência dos documentos de acordo com suas necessidades. Com o ReportLab, é possível criar documentos dinâmicos que possam \n",
        "ser gerados a partir de dados \n",
        "em tempo real, ou a partir de um modelo pré-estabelecido.\"\"\""
      ],
      "metadata": {
        "id": "lZNDHBRTfG-O"
      },
      "execution_count": null,
      "outputs": []
    },
    {
      "cell_type": "code",
      "source": [
        "from Bio.Graphics import GenomeDiagram"
      ],
      "metadata": {
        "id": "WBkk-6lYfJvN"
      },
      "execution_count": null,
      "outputs": []
    },
    {
      "cell_type": "code",
      "source": [
        "from reportlab.lib import colors"
      ],
      "metadata": {
        "id": "GP2dOWp6fW13"
      },
      "execution_count": null,
      "outputs": []
    },
    {
      "cell_type": "code",
      "source": [
        "from reportlab.lib.units import cm"
      ],
      "metadata": {
        "id": "Sel7evhbfZs0"
      },
      "execution_count": null,
      "outputs": []
    },
    {
      "cell_type": "code",
      "source": [
        "record = SeqIO.read('NC_005816.gb', 'gb')"
      ],
      "metadata": {
        "id": "UFguJkPffcOu"
      },
      "execution_count": null,
      "outputs": []
    },
    {
      "cell_type": "code",
      "source": [
        "record"
      ],
      "metadata": {
        "colab": {
          "base_uri": "https://localhost:8080/"
        },
        "id": "UVpaAIZEft-Y",
        "outputId": "5cc74821-29c7-426e-d5ce-808a8924f7ca"
      },
      "execution_count": null,
      "outputs": [
        {
          "output_type": "execute_result",
          "data": {
            "text/plain": [
              "SeqRecord(seq=Seq(None, length=9609), id='NC_005816.1', name='NC_005816', description='Yersinia pestis biovar Microtus str. 91001 plasmid pPCP1, complete sequence', dbxrefs=['BioProject:PRJNA224116', 'BioSample:SAMN02602970', 'Assembly:GCF_000007885.1'])"
            ]
          },
          "metadata": {},
          "execution_count": 89
        }
      ]
    },
    {
      "cell_type": "code",
      "source": [
        "record.features"
      ],
      "metadata": {
        "id": "c2ONywcRfwhk"
      },
      "execution_count": null,
      "outputs": []
    },
    {
      "cell_type": "code",
      "source": [
        "gd_diagram = GenomeDiagram.Diagram(\"Yersinia pestis biovar Microtus pPCP1\")\n",
        "\"\"\"O código é uma criação de um objeto do tipo Diagram, da biblioteca GenomeDiagram, para representar uma sequência de DNA.\n",
        " O objeto é criado com o título \"Yersinia pestis biovar Microtus pPCP1\". Esse título pode ser usado para identificar o diagrama ou o objeto de seqüência de DNA que ele representa. \n",
        "A biblioteca GenomeDiagram é uma ferramenta para visualização e manipulação de informações genômicas.\"\"\""
      ],
      "metadata": {
        "colab": {
          "base_uri": "https://localhost:8080/",
          "height": 105
        },
        "id": "8xBHlQUIfy3F",
        "outputId": "d2fc7f7d-136f-4dd8-f638-ab4f493390bb"
      },
      "execution_count": null,
      "outputs": [
        {
          "output_type": "execute_result",
          "data": {
            "text/plain": [
              "'O código é uma criação de um objeto do tipo Diagram, da biblioteca GenomeDiagram, para representar uma sequência de DNA.\\n O objeto é criado com o título \"Yersinia pestis biovar Microtus pPCP1\". Esse título pode ser usado para identificar o diagrama ou o objeto de seqüência de DNA que ele representa. \\nA biblioteca GenomeDiagram é uma ferramenta para visualização e manipulação de informações genômicas.'"
            ],
            "application/vnd.google.colaboratory.intrinsic+json": {
              "type": "string"
            }
          },
          "metadata": {},
          "execution_count": 36
        }
      ]
    },
    {
      "cell_type": "code",
      "source": [
        "gd_track_for_features = gd_diagram.new_track(1, name= 'Annotated Features')\n",
        "\"\"\"O código acima está criando uma nova trilha para armazenar características anotadas em um diagrama de genoma. \n",
        "O método new_track é um método do objeto Diagram da biblioteca GenomeDiagram. O argumento 1 é o nível da trilha \n",
        "(1 significa que a trilha ficará no topo do diagrama) e o argumento name é o nome da trilha que será exibido na legenda do diagrama.\"\"\""
      ],
      "metadata": {
        "colab": {
          "base_uri": "https://localhost:8080/",
          "height": 105
        },
        "id": "ysZSfHNogE9o",
        "outputId": "5d0569ec-ef2c-494d-eaca-d484f04a854f"
      },
      "execution_count": null,
      "outputs": [
        {
          "output_type": "execute_result",
          "data": {
            "text/plain": [
              "'O código acima está criando uma nova trilha para armazenar características anotadas em um diagrama de genoma. \\nO método new_track é um método do objeto Diagram da biblioteca GenomeDiagram. O argumento 1 é o nível da trilha \\n(1 significa que a trilha ficará no topo do diagrama) e o argumento name é o nome da trilha que será exibido na legenda do diagrama.'"
            ],
            "application/vnd.google.colaboratory.intrinsic+json": {
              "type": "string"
            }
          },
          "metadata": {},
          "execution_count": 37
        }
      ]
    },
    {
      "cell_type": "code",
      "source": [
        "gd_features_set = gd_track_for_features.new_set()"
      ],
      "metadata": {
        "id": "n_b6T84ygQEW"
      },
      "execution_count": null,
      "outputs": []
    },
    {
      "cell_type": "code",
      "source": [
        "# diferencia em azul ou lightblue dependendo do tamanho da feature\n",
        "# desenhar o diagrama\n",
        "for feature in record.features:\n",
        "  if feature.type != 'gene':\n",
        "    continue\n",
        "  #if len(gd_features_set) % 2 == 0:\n",
        "    #color = colors.blue\n",
        "  #else:\n",
        "    #color = colors.lightblue\n",
        "  gd_features_set.add_feature(feature, color='blue', label=True, sigil='BOX')"
      ],
      "metadata": {
        "id": "tpv-m7bCgWOk"
      },
      "execution_count": null,
      "outputs": []
    },
    {
      "cell_type": "code",
      "source": [
        "gd_diagram.draw(format='circular', circular=True, pagesize=(20*cm, 20*cm),\n",
        "                start=0, end=len(record), circle_core= 0.7)\n"
      ],
      "metadata": {
        "id": "bdjrg4rWoxzN"
      },
      "execution_count": null,
      "outputs": []
    },
    {
      "cell_type": "code",
      "source": [
        "gd_diagram.write('plasmid_circular.png','png')"
      ],
      "metadata": {
        "id": "xfBlBVoJp-Jb"
      },
      "execution_count": null,
      "outputs": []
    },
    {
      "cell_type": "code",
      "source": [
        "Image(filename='plasmid_circular.png')"
      ],
      "metadata": {
        "colab": {
          "base_uri": "https://localhost:8080/",
          "height": 584
        },
        "id": "8U_hd3eGqxze",
        "outputId": "67d9b000-188e-4cf6-f0e1-6fbfb705ec06"
      },
      "execution_count": null,
      "outputs": [
        {
          "output_type": "execute_result",
          "data": {
            "image/png": "[encoded data removed]",
            "text/plain": [
              "<IPython.core.display.Image object>"
            ]
          },
          "metadata": {},
          "execution_count": 44
        }
      ]
    },
    {
      "cell_type": "code",
      "source": [
        "from Bio.Blast import NCBIWWW\n",
        "from Bio import SearchIO"
      ],
      "metadata": {
        "id": "TNzMlJKPq54V"
      },
      "execution_count": null,
      "outputs": []
    },
    {
      "cell_type": "code",
      "source": [
        "arq = SeqIO.read('exemplo.fasta', format='fasta')"
      ],
      "metadata": {
        "id": "YiBdscatuZgu"
      },
      "execution_count": null,
      "outputs": []
    },
    {
      "cell_type": "code",
      "source": [
        "resultBlast = NCBIWWW.qblast('blastn', 'nt', arq.seq)\n",
        "\n",
        "blast_qresult = SearchIO.read(resultBlast, 'blast-xml')\n",
        "print(blast_qresult)"
      ],
      "metadata": {
        "colab": {
          "base_uri": "https://localhost:8080/"
        },
        "id": "OmenMQZY0jFP",
        "outputId": "fca5c558-ac52-43a9-c4eb-c1c0d8609b99"
      },
      "execution_count": null,
      "outputs": [
        {
          "output_type": "stream",
          "name": "stdout",
          "text": [
            "Program: blastn (2.13.0+)\n",
            "  Query: No (620)\n",
            "         definition line\n",
            " Target: nt\n",
            "   Hits: ----  -----  ----------------------------------------------------------\n",
            "            #  # HSP  ID + description\n",
            "         ----  -----  ----------------------------------------------------------\n",
            "            0      1  gi|1542862221|ref|XM_027538800.1|  PREDICTED: Bos indic...\n",
            "            1      1  gi|1131145074|ref|XM_019958446.1|  PREDICTED: Bos indic...\n",
            "            2      1  gi|31342400|ref|NM_174292.2|  Bos taurus crystallin gam...\n",
            "            3      1  gi|942100335|ref|XM_005910756.2|  PREDICTED: Bos mutus ...\n",
            "            4      1  gi|742178622|ref|XM_010853890.1|  PREDICTED: Bison biso...\n",
            "            5      1  gi|2148341035|ref|XM_006058622.4|  PREDICTED: Bubalus b...\n",
            "            6      1  gi|1187561296|ref|XM_020878820.1|  PREDICTED: Odocoileu...\n",
            "            7      1  gi|1187561294|ref|XM_020878819.1|  PREDICTED: Odocoileu...\n",
            "            8      1  gi|2101993595|ref|XM_043874320.1|  PREDICTED: Cervus el...\n",
            "            9      1  gi|2090108516|ref|XM_043473479.1|  PREDICTED: Cervus ca...\n",
            "           10      1  gi|1542862219|ref|XM_027538798.1|  PREDICTED: Bos indic...\n",
            "           11      1  gi|1387190066|ref|XM_015471712.2|  PREDICTED: Bos tauru...\n",
            "           12      1  gi|2009432332|ref|XM_040252679.1|  PREDICTED: Oryx damm...\n",
            "           13      1  gi|942100339|ref|XM_014483322.1|  PREDICTED: Bos mutus ...\n",
            "           14      1  gi|1062849751|ref|XM_005675164.3|  PREDICTED: Capra hir...\n",
            "           15      1  gi|2062751727|ref|XM_004003064.5|  PREDICTED: Ovis arie...\n",
            "           16      1  gi|2148341037|ref|XM_006058621.4|  PREDICTED: Bubalus b...\n",
            "           17      1  gi|2009432334|ref|XM_040252689.1|  PREDICTED: Oryx damm...\n",
            "           18      1  gi|1062849752|ref|XM_018046920.1|  PREDICTED: Capra hir...\n",
            "           19      1  gi|2062751729|ref|XM_027957512.2|  PREDICTED: Ovis arie...\n",
            "           20      1  gi|2062751728|ref|XM_027957510.2|  PREDICTED: Ovis arie...\n",
            "           21      1  gi|1741508449|ref|XM_022570096.2|  PREDICTED: Delphinap...\n",
            "           22      1  gi|1246146051|ref|XM_022570162.1|  PREDICTED: Delphinap...\n",
            "           23      1  gi|1246146049|ref|XM_022570157.1|  PREDICTED: Delphinap...\n",
            "           24      1  gi|1246146043|ref|XM_022570132.1|  PREDICTED: Delphinap...\n",
            "           25      1  gi|1246146041|ref|XM_022570122.1|  PREDICTED: Delphinap...\n",
            "           26      1  gi|1246146039|ref|XM_022570115.1|  PREDICTED: Delphinap...\n",
            "           27      1  gi|1246146037|ref|XM_022570105.1|  PREDICTED: Delphinap...\n",
            "           28      1  gi|602732084|ref|XM_007451379.1|  PREDICTED: Lipotes ve...\n",
            "           29      1  gi|602732082|ref|XM_007451378.1|  PREDICTED: Lipotes ve...\n",
            "           ~~~\n",
            "           47      1  gi|2193370742|ref|XM_046659409.1|  PREDICTED: Equus qua...\n",
            "           48      1  gi|2124517993|ref|XM_014843342.2|  PREDICTED: Equus asi...\n",
            "           49      1  gi|1333590519|ref|XM_001499197.5|  PREDICTED: Equus cab...\n"
          ]
        },
        {
          "output_type": "stream",
          "name": "stderr",
          "text": [
            "/usr/local/lib/python3.8/dist-packages/Bio/SearchIO/_legacy/__init__.py:12: BiopythonDeprecationWarning: The 'Bio.SearchIO._legacy' module for parsing BLAST plain text output is deprecated and will be removed in a future release of Biopython. Consider generating your BLAST output for parsing as XML or tabular format instead.\n",
            "  warnings.warn(\n"
          ]
        }
      ]
    },
    {
      "cell_type": "code",
      "source": [
        "resultBlast = NCBIWWW.qblast('blastn', 'nt', arq.seq, format_type='Text')\n",
        "# ou posso colocar  Seq('atggcgcgc')"
      ],
      "metadata": {
        "id": "Aya2S_pNzZC2"
      },
      "execution_count": null,
      "outputs": []
    },
    {
      "cell_type": "code",
      "source": [
        "from Bio.KEGG import REST\n",
        "result = REST.kegg_info(\"kegg\").read()\n",
        "# Posso usar o kegg_list ex: 'drug'"
      ],
      "metadata": {
        "id": "MX8b7efc0xrJ"
      },
      "execution_count": null,
      "outputs": []
    },
    {
      "cell_type": "code",
      "source": [
        "print(result)"
      ],
      "metadata": {
        "colab": {
          "base_uri": "https://localhost:8080/"
        },
        "id": "-bnqYSXi1k70",
        "outputId": "6c4d23b8-6e49-4bc6-bc22-9298e31293cd"
      },
      "execution_count": null,
      "outputs": [
        {
          "output_type": "stream",
          "name": "stdout",
          "text": [
            "kegg             Kyoto Encyclopedia of Genes and Genomes\n",
            "kegg             Release 105.0+/02-03, Feb 23\n",
            "                 Kanehisa Laboratories\n",
            "                 pathway   1,009,699 entries\n",
            "                 brite       339,662 entries\n",
            "                 module          550 entries\n",
            "                 orthology    25,615 entries\n",
            "                 genome       20,603 entries\n",
            "                 genes     45,817,444 entries\n",
            "                 compound     19,057 entries\n",
            "                 glycan       11,147 entries\n",
            "                 reaction     11,874 entries\n",
            "                 rclass        3,194 entries\n",
            "                 enzyme        8,056 entries\n",
            "                 network       1,484 entries\n",
            "                 variant         898 entries\n",
            "                 disease       2,620 entries\n",
            "                 drug         12,061 entries\n",
            "                 dgroup        2,418 entries\n",
            "\n"
          ]
        }
      ]
    },
    {
      "cell_type": "code",
      "source": [
        "result = REST.kegg_find('genes','Herbaspirillum').read()\n",
        "# ex: 'Genes\"\n",
        "# ex: 'disease' 'covid'"
      ],
      "metadata": {
        "id": "id2M8cLN1xni"
      },
      "execution_count": null,
      "outputs": []
    },
    {
      "cell_type": "code",
      "source": [
        "result"
      ],
      "metadata": {
        "colab": {
          "base_uri": "https://localhost:8080/",
          "height": 105
        },
        "id": "NJNXk5h82oXo",
        "outputId": "30d5070b-acc7-42f2-8ecd-2484edf20e46"
      },
      "execution_count": null,
      "outputs": [
        {
          "output_type": "execute_result",
          "data": {
            "text/plain": [
              "'kpnk:BN49_2491\\tqor; highly similar to putative NADPH:quinone oxidoreductase protein from Herbaspirillum seropedicae (tr|A2RQ31)\\ngms:SOIL9_51540\\tmethyl-accepting chemotaxis protein : Putative periplasmic ligand-binding sensor domain protein OS=Herbaspirillum sp. CF444 GN=PMI16_01711 PE=4 SV=1: CHASE3: MCPsignal\\ngms:SOIL9_51520\\tchemotaxis protein : Chemotaxis response regulator protein-glutamate methylesterase OS=Herbaspirillum sp. CF444 GN=cheB PE=3 SV=1: Response_reg: CheB_methylest\\ngms:SOIL9_32850\\tglyoxalase bleomycin resistance protein dioxygenase : Glyoxylase I family protein OS=Herbaspirillum frisingense GSF30 GN=HFRIS_003763 PE=4 SV=1: Glyoxalase\\ntim:GMBLW1_40640\\tpoly(3-hydroxybutyrate) depolymerase : Poly(3-hydroxybutyrate) depolymerase OS=Herbaspirillum sp. YR522 GN=PMI40_02532 PE=4 SV=1: Abhydrolase_2\\n'"
            ],
            "application/vnd.google.colaboratory.intrinsic+json": {
              "type": "string"
            }
          },
          "metadata": {},
          "execution_count": 57
        }
      ]
    },
    {
      "cell_type": "code",
      "source": [
        "result = REST.kegg_find('compound','Glutathione').read()\n"
      ],
      "metadata": {
        "id": "KXG6i3nX2pGH"
      },
      "execution_count": null,
      "outputs": []
    },
    {
      "cell_type": "code",
      "source": [
        "result"
      ],
      "metadata": {
        "colab": {
          "base_uri": "https://localhost:8080/",
          "height": 123
        },
        "id": "-TTx0I9k3EUx",
        "outputId": "d5fa8cda-9c95-477b-c346-80efe3934755"
      },
      "execution_count": null,
      "outputs": [
        {
          "output_type": "execute_result",
          "data": {
            "text/plain": [
              "'cpd:C00051\\tGlutathione; 5-L-Glutamyl-L-cysteinylglycine; N-(N-gamma-L-Glutamyl-L-cysteinyl)glycine; gamma-L-Glutamyl-L-cysteinyl-glycine; GSH; Reduced glutathione\\ncpd:C00127\\tGlutathione disulfide; GSSG; Oxiglutatione; Oxidized glutathione\\ncpd:C00920\\tCoA-glutathione; Coenzyme A-glutathione mixed disulfide\\ncpd:C01031\\tS-Formylglutathione\\ncpd:C02320\\tR-S-Glutathione\\ncpd:C02589\\tS-Acylglutathione\\ncpd:C02886\\tS-Hexyl-glutathione; S-Hexyl-L-glutathione\\ncpd:C03174\\tS-Succinylglutathione\\ncpd:C03451\\t(R)-S-Lactoylglutathione; S-D-Lactoylglutathione\\ncpd:C03899\\tS-(2-Hydroxyacyl)glutathione\\ncpd:C03928\\t3-Phosphoglycerol-glutathione\\ncpd:C04572\\tS-(N-Hydroxy-N-methylcarbamoyl)glutathione\\ncpd:C11175\\tS-(2,4-Dinitrophenyl)glutathione\\ncpd:C11302\\tS-Octyl GSH; S-Octyl glutathione\\ncpd:C11303\\tS-Decyl GSH; S-Decyl glutathione\\ncpd:C11304\\tS-(PGA1)-glutathione\\ncpd:C11315\\tS-(4-Azidophenacyl)glutathione; S-(p-Azidophenacyl)glutathione\\ncpd:C11347\\tS-Methyl GSH; S-Methylglutathione\\ncpd:C11367\\tGSH-prostaglandin A1; Glutathione-prostaglandin A1 conjugate; PGA1-GS\\ncpd:C11370\\tN-Ethylmaleimide-S-glutathione\\ncpd:C14180\\tS-(Hydroxymethyl)glutathione\\ncpd:C14861\\tS-(2,2-Dichloro-1-hydroxy)ethyl glutathione\\ncpd:C14862\\t2-S-Glutathionyl acetate; S-(Carboxymethyl)glutathione\\ncpd:C14863\\t2-(S-Glutathionyl)acetyl glutathione\\ncpd:C14864\\tS-(2-Chloroacetyl)glutathione\\ncpd:C14868\\tS-(1,2-Dichlorovinyl)glutathione; DCVG\\ncpd:C14871\\tS-(Formylmethyl)glutathione\\ncpd:C14874\\tGlutathione episulfonium ion\\ncpd:C14875\\tS-(2-Hydroxyethyl)glutathione\\ncpd:C17267\\tS-Sulfanylglutathione; Glutathione hydrodisulfide\\ncpd:C18870\\tSelenodiglutathione; GSSeSG\\ncpd:C19689\\tGlutathione amide; L-gamma-Glutamyl-L-cysteinylglycinamide\\ncpd:C19690\\tGlutathione amide disulfide\\ncpd:C20304\\tS-(2-Chloroethyl)glutathione\\ncpd:C21539\\t(E)-1-(Glutathione-S-yl)-omega-(methylthio)alkylhydroximate; S-[(1E)-1-(Hydroxyimino)-omega-(methylsulfanyl)alkyl]-L-glutathione\\ncpd:C21563\\t2-(Glutathione-S-yl)-hydroquinone\\ncpd:C21620\\tS-[(E)-N-Hydroxy(indol-3-yl)acetimidoyl]-L-glutathione\\ncpd:C21622\\tS-[(Z)-N-Hydroxy(phenyl)acetimidoyl]-L-glutathione\\ncpd:C21664\\t(Glutathione-S-yl)(1H-indol-3-yl)acetonitrile\\ncpd:C21787\\tS-Sulfinatoglutathione\\ncpd:C21858\\tN-(4-Oxoglutaryl)-L-cysteinylglycine; Deaminated glutathione\\ncpd:C22431\\tArsenic triglutathione\\ncpd:C22462\\tS-(Methylsulfanyl)glutathione; S-Methylthio glutathione\\n'"
            ],
            "application/vnd.google.colaboratory.intrinsic+json": {
              "type": "string"
            }
          },
          "metadata": {},
          "execution_count": 59
        }
      ]
    },
    {
      "cell_type": "code",
      "source": [
        "result = REST.kegg_get('cpd:C00051').read()\n"
      ],
      "metadata": {
        "id": "r76omauW3F25"
      },
      "execution_count": null,
      "outputs": []
    },
    {
      "cell_type": "code",
      "source": [
        "print(result)"
      ],
      "metadata": {
        "id": "dI0_qNNR3PLB"
      },
      "execution_count": null,
      "outputs": []
    },
    {
      "cell_type": "code",
      "source": [
        "result = REST.kegg_get('cpd:C00051', 'image').read()\n"
      ],
      "metadata": {
        "id": "gOmi8O9p3Q12"
      },
      "execution_count": null,
      "outputs": []
    },
    {
      "cell_type": "code",
      "source": [
        "Image(result)"
      ],
      "metadata": {
        "colab": {
          "base_uri": "https://localhost:8080/",
          "height": 129
        },
        "id": "HY8u3SSw3n4R",
        "outputId": "494bb435-2dd2-4cf0-ae9e-9eda6ce41e47"
      },
      "execution_count": null,
      "outputs": [
        {
          "output_type": "execute_result",
          "data": {
            "image/png": "[encoded data removed]",
            "text/plain": [
              "<IPython.core.display.Image object>"
            ]
          },
          "metadata": {},
          "execution_count": 64
        }
      ]
    },
    {
      "cell_type": "code",
      "source": [
        "result = REST.kegg_find('pathway', 'Fatty+acid+biosynthesis').read()\n"
      ],
      "metadata": {
        "id": "l857wMC03pXk"
      },
      "execution_count": null,
      "outputs": []
    },
    {
      "cell_type": "code",
      "source": [
        "print(result)"
      ],
      "metadata": {
        "colab": {
          "base_uri": "https://localhost:8080/"
        },
        "id": "3KYbJQRlF3wW",
        "outputId": "04b03110-7a6c-4d4a-c0aa-294cfe2495ba"
      },
      "execution_count": null,
      "outputs": [
        {
          "output_type": "stream",
          "name": "stdout",
          "text": [
            "path:map00061\tFatty acid biosynthesis\n",
            "path:map01040\tBiosynthesis of unsaturated fatty acids\n",
            "\n"
          ]
        }
      ]
    },
    {
      "cell_type": "code",
      "source": [
        "result = REST.kegg_get('map00061', 'image').read()"
      ],
      "metadata": {
        "id": "18zNJwG9F43J"
      },
      "execution_count": null,
      "outputs": []
    },
    {
      "cell_type": "code",
      "source": [
        "Image(result)"
      ],
      "metadata": {
        "id": "nvYvbVRxGLqB"
      },
      "execution_count": null,
      "outputs": []
    },
    {
      "cell_type": "code",
      "source": [
        "from Bio.KEGG import Enzyme"
      ],
      "metadata": {
        "id": "wBS9jIIbGO2a"
      },
      "execution_count": null,
      "outputs": []
    },
    {
      "cell_type": "code",
      "source": [
        "request = REST.kegg_get('ec:5.4.2.2')"
      ],
      "metadata": {
        "id": "T1rV4xA6GjBh"
      },
      "execution_count": null,
      "outputs": []
    },
    {
      "cell_type": "code",
      "source": [
        "f = open('ec_5422.txt', 'w')"
      ],
      "metadata": {
        "id": "sYfpND7WGo-o"
      },
      "execution_count": null,
      "outputs": []
    },
    {
      "cell_type": "code",
      "source": [
        "f.write(request.read())\n",
        "f.close()"
      ],
      "metadata": {
        "id": "DqiDYbT_Gtvo"
      },
      "execution_count": null,
      "outputs": []
    },
    {
      "cell_type": "code",
      "source": [
        "records =  Enzyme.parse(open('ec_5422.txt'))"
      ],
      "metadata": {
        "id": "Jc2MOMLkG00i"
      },
      "execution_count": null,
      "outputs": []
    },
    {
      "cell_type": "code",
      "source": [
        "record = list(records)[0]"
      ],
      "metadata": {
        "id": "sMwaiOK_HYOM"
      },
      "execution_count": null,
      "outputs": []
    },
    {
      "cell_type": "code",
      "source": [
        "record"
      ],
      "metadata": {
        "colab": {
          "base_uri": "https://localhost:8080/"
        },
        "id": "RxW7WCb7HZAz",
        "outputId": "8db0d85d-b050-4f52-a0d8-437510caf80b"
      },
      "execution_count": null,
      "outputs": [
        {
          "output_type": "execute_result",
          "data": {
            "text/plain": [
              "<Bio.KEGG.Enzyme.Record at 0x7f5bfb439280>"
            ]
          },
          "metadata": {},
          "execution_count": 83
        }
      ]
    },
    {
      "cell_type": "code",
      "source": [
        "record.name"
      ],
      "metadata": {
        "colab": {
          "base_uri": "https://localhost:8080/"
        },
        "id": "P9e0-uUrHeT0",
        "outputId": "ee216d30-3df4-4a68-ead9-d784001c8aa5"
      },
      "execution_count": null,
      "outputs": [
        {
          "output_type": "execute_result",
          "data": {
            "text/plain": [
              "['phosphoglucomutase (alpha-D-glucose-1,6-bisphosphate-dependent)',\n",
              " 'glucose phosphomutase (ambiguous)',\n",
              " 'phosphoglucose mutase (ambiguous)']"
            ]
          },
          "metadata": {},
          "execution_count": 84
        }
      ]
    },
    {
      "cell_type": "code",
      "source": [
        "record.entry"
      ],
      "metadata": {
        "colab": {
          "base_uri": "https://localhost:8080/",
          "height": 36
        },
        "id": "NuOs9DCMHghl",
        "outputId": "da2561ce-ad9a-49e9-9fd9-b8898597e1b4"
      },
      "execution_count": null,
      "outputs": [
        {
          "output_type": "execute_result",
          "data": {
            "text/plain": [
              "'5.4.2.2'"
            ],
            "application/vnd.google.colaboratory.intrinsic+json": {
              "type": "string"
            }
          },
          "metadata": {},
          "execution_count": 85
        }
      ]
    },
    {
      "cell_type": "code",
      "source": [
        "record.classname"
      ],
      "metadata": {
        "colab": {
          "base_uri": "https://localhost:8080/"
        },
        "id": "3iWL1RX9HrY-",
        "outputId": "2e1b7eff-2a2c-4e3a-c83f-96d4cb4188a9"
      },
      "execution_count": null,
      "outputs": [
        {
          "output_type": "execute_result",
          "data": {
            "text/plain": [
              "['Isomerases;',\n",
              " 'Intramolecular transferases;',\n",
              " 'Phosphotransferases (phosphomutases)']"
            ]
          },
          "metadata": {},
          "execution_count": 86
        }
      ]
    },
    {
      "cell_type": "code",
      "source": [
        "record.pathway"
      ],
      "metadata": {
        "colab": {
          "base_uri": "https://localhost:8080/"
        },
        "id": "VCYdif8_Htqj",
        "outputId": "2361b9b8-0404-47f0-9215-3301dbb0154e"
      },
      "execution_count": null,
      "outputs": [
        {
          "output_type": "execute_result",
          "data": {
            "text/plain": [
              "[('PATH', 'ec00010', 'Glycolysis / Gluconeogenesis'),\n",
              " ('PATH', 'ec00030', 'Pentose phosphate pathway'),\n",
              " ('PATH', 'ec00052', 'Galactose metabolism'),\n",
              " ('PATH', 'ec00230', 'Purine metabolism'),\n",
              " ('PATH', 'ec00500', 'Starch and sucrose metabolism'),\n",
              " ('PATH', 'ec00520', 'Amino sugar and nucleotide sugar metabolism'),\n",
              " ('PATH', 'ec00521', 'Streptomycin biosynthesis'),\n",
              " ('PATH', 'ec01100', 'Metabolic pathways'),\n",
              " ('PATH', 'ec01110', 'Biosynthesis of secondary metabolites'),\n",
              " ('PATH', 'ec01120', 'Microbial metabolism in diverse environments')]"
            ]
          },
          "metadata": {},
          "execution_count": 87
        }
      ]
    },
    {
      "cell_type": "code",
      "source": [
        "record.reaction"
      ],
      "metadata": {
        "colab": {
          "base_uri": "https://localhost:8080/"
        },
        "id": "ENcatb9tHwJo",
        "outputId": "bc686f93-6ee5-4081-bd5d-43d4021fafae"
      },
      "execution_count": null,
      "outputs": [
        {
          "output_type": "execute_result",
          "data": {
            "text/plain": [
              "['alpha-D-glucose 1-phosphate = D-glucose 6-phosphate [RN:R08639]']"
            ]
          },
          "metadata": {},
          "execution_count": 88
        }
      ]
    },
    {
      "cell_type": "code",
      "source": [
        "record.substrate"
      ],
      "metadata": {
        "colab": {
          "base_uri": "https://localhost:8080/"
        },
        "id": "NJDFz-opH2LD",
        "outputId": "6175cf6a-96f1-46b4-dff1-a4c10bb6518b"
      },
      "execution_count": null,
      "outputs": [
        {
          "output_type": "execute_result",
          "data": {
            "text/plain": [
              "['alpha-D-glucose 1-phosphate [CPD:C00103]']"
            ]
          },
          "metadata": {},
          "execution_count": 89
        }
      ]
    },
    {
      "cell_type": "code",
      "source": [
        "record.product"
      ],
      "metadata": {
        "colab": {
          "base_uri": "https://localhost:8080/"
        },
        "id": "BgTlKtPWH4Mz",
        "outputId": "a0c7b449-581f-4023-b94a-4ef60beb6cbc"
      },
      "execution_count": null,
      "outputs": [
        {
          "output_type": "execute_result",
          "data": {
            "text/plain": [
              "['D-glucose 6-phosphate [CPD:C00092]']"
            ]
          },
          "metadata": {},
          "execution_count": 90
        }
      ]
    },
    {
      "cell_type": "code",
      "source": [
        "record.genes"
      ],
      "metadata": {
        "id": "iuZlWIklH6bq"
      },
      "execution_count": null,
      "outputs": []
    },
    {
      "cell_type": "code",
      "source": [
        "from Bio.PDB import *"
      ],
      "metadata": {
        "id": "amXRnLt8H777"
      },
      "execution_count": null,
      "outputs": []
    },
    {
      "cell_type": "code",
      "source": [
        "pdb = PDBList()\n",
        "# objeto pdb list criado"
      ],
      "metadata": {
        "id": "5Yc4eQw7IH7B"
      },
      "execution_count": null,
      "outputs": []
    },
    {
      "cell_type": "code",
      "source": [
        "pdb.retrieve_pdb_file('2FAT', pdir='.', file_format='mmCif')\n",
        "# busca no pdb, atraves do objeto criado anteriormente"
      ],
      "metadata": {
        "colab": {
          "base_uri": "https://localhost:8080/",
          "height": 53
        },
        "id": "JfTTTvqZINwL",
        "outputId": "a0dab2ca-dcf1-4438-ddeb-50cf8c3d0095"
      },
      "execution_count": null,
      "outputs": [
        {
          "output_type": "stream",
          "name": "stdout",
          "text": [
            "Downloading PDB structure '2fat'...\n"
          ]
        },
        {
          "output_type": "execute_result",
          "data": {
            "text/plain": [
              "'./2fat.cif'"
            ],
            "application/vnd.google.colaboratory.intrinsic+json": {
              "type": "string"
            }
          },
          "metadata": {},
          "execution_count": 95
        }
      ]
    },
    {
      "cell_type": "code",
      "source": [
        "parser = MMCIFParser(QUIET=True)\n",
        "#criando um objeto parser para ler o arquivo baixado"
      ],
      "metadata": {
        "id": "Yq5pHt3LIRfs"
      },
      "execution_count": null,
      "outputs": []
    },
    {
      "cell_type": "code",
      "source": [
        "struct = parser.get_structure('2FAT', '2fat.cif')\n",
        "# criando a estrutura e utiliza o objeto criado"
      ],
      "metadata": {
        "id": "Fo-jb4ASIkK1"
      },
      "execution_count": null,
      "outputs": []
    },
    {
      "cell_type": "code",
      "source": [
        "struct"
      ],
      "metadata": {
        "colab": {
          "base_uri": "https://localhost:8080/"
        },
        "id": "zcIcBh6MIsjM",
        "outputId": "fd17df25-4ec1-45de-a774-3ac86e255b9f"
      },
      "execution_count": null,
      "outputs": [
        {
          "output_type": "execute_result",
          "data": {
            "text/plain": [
              "<Structure id=2FAT>"
            ]
          },
          "metadata": {},
          "execution_count": 98
        }
      ]
    },
    {
      "cell_type": "code",
      "source": [
        "struct.header"
      ],
      "metadata": {
        "colab": {
          "base_uri": "https://localhost:8080/"
        },
        "id": "0I4-CueLItJl",
        "outputId": "ab3da33c-c62f-4e22-86a3-34d4644e9d6f"
      },
      "execution_count": null,
      "outputs": [
        {
          "output_type": "execute_result",
          "data": {
            "text/plain": [
              "{'name': 'An anti-urokinase plasminogen activator receptor (UPAR) antibody: Crystal structure and binding epitope',\n",
              " 'head': 'IMMUNE SYSTEM',\n",
              " 'idcode': '2FAT',\n",
              " 'deposition_date': '2005-12-07',\n",
              " 'structure_method': 'X-RAY DIFFRACTION',\n",
              " 'resolution': 1.77}"
            ]
          },
          "metadata": {},
          "execution_count": 99
        }
      ]
    },
    {
      "cell_type": "code",
      "source": [
        "struct.header['resolution']"
      ],
      "metadata": {
        "colab": {
          "base_uri": "https://localhost:8080/"
        },
        "id": "3oNGp5Q8IvTw",
        "outputId": "36e1503a-f60c-47a5-e349-14c40053b87e"
      },
      "execution_count": null,
      "outputs": [
        {
          "output_type": "execute_result",
          "data": {
            "text/plain": [
              "1.77"
            ]
          },
          "metadata": {},
          "execution_count": 100
        }
      ]
    },
    {
      "cell_type": "code",
      "source": [
        "struct[0]"
      ],
      "metadata": {
        "colab": {
          "base_uri": "https://localhost:8080/"
        },
        "id": "9ZbHR_76JlbR",
        "outputId": "eede95aa-14da-44c0-f904-f2c9dc3cf2e9"
      },
      "execution_count": null,
      "outputs": [
        {
          "output_type": "execute_result",
          "data": {
            "text/plain": [
              "<Model id=0>"
            ]
          },
          "metadata": {},
          "execution_count": 101
        }
      ]
    },
    {
      "cell_type": "code",
      "source": [
        "model = struct.get_models()"
      ],
      "metadata": {
        "id": "IvUskQiAJqhD"
      },
      "execution_count": null,
      "outputs": []
    },
    {
      "cell_type": "code",
      "source": [
        "model"
      ],
      "metadata": {
        "colab": {
          "base_uri": "https://localhost:8080/"
        },
        "id": "BwB5JQqBJt72",
        "outputId": "af302c59-7c32-4437-b9a0-28ebb43da1eb"
      },
      "execution_count": null,
      "outputs": [
        {
          "output_type": "execute_result",
          "data": {
            "text/plain": [
              "<generator object Structure.get_models at 0x7f5bf9042eb0>"
            ]
          },
          "metadata": {},
          "execution_count": 103
        }
      ]
    },
    {
      "cell_type": "code",
      "source": [
        "models = list(model)"
      ],
      "metadata": {
        "id": "QWd64JHsJudT"
      },
      "execution_count": null,
      "outputs": []
    },
    {
      "cell_type": "code",
      "source": [
        "models"
      ],
      "metadata": {
        "colab": {
          "base_uri": "https://localhost:8080/"
        },
        "id": "dwCNjjFiJz3l",
        "outputId": "82ac69a0-5816-4ab1-d6cb-85dd46ce3039"
      },
      "execution_count": null,
      "outputs": [
        {
          "output_type": "execute_result",
          "data": {
            "text/plain": [
              "[<Model id=0>]"
            ]
          },
          "metadata": {},
          "execution_count": 105
        }
      ]
    },
    {
      "cell_type": "code",
      "source": [
        "chains = list(models[0].get_chains())"
      ],
      "metadata": {
        "id": "QmtW9Q88J0sY"
      },
      "execution_count": null,
      "outputs": []
    },
    {
      "cell_type": "code",
      "source": [
        "chains"
      ],
      "metadata": {
        "colab": {
          "base_uri": "https://localhost:8080/"
        },
        "id": "N70aVoWMKBj2",
        "outputId": "ffc44aea-09a5-4c77-9e96-efba78bf55a3"
      },
      "execution_count": null,
      "outputs": [
        {
          "output_type": "execute_result",
          "data": {
            "text/plain": [
              "[<Chain id=L>, <Chain id=H>]"
            ]
          },
          "metadata": {},
          "execution_count": 107
        }
      ]
    },
    {
      "cell_type": "code",
      "source": [
        "residueL= list(chains[0].get_residues())\n",
        "residueH= list(chains[1].get_residues())"
      ],
      "metadata": {
        "id": "jnQvUi78KCft"
      },
      "execution_count": null,
      "outputs": []
    },
    {
      "cell_type": "code",
      "source": [
        "residueL"
      ],
      "metadata": {
        "id": "SzRwSr-SKaQt"
      },
      "execution_count": null,
      "outputs": []
    },
    {
      "cell_type": "code",
      "source": [
        "residueH[5].resname"
      ],
      "metadata": {
        "colab": {
          "base_uri": "https://localhost:8080/",
          "height": 36
        },
        "id": "e3OwcSuCKbqM",
        "outputId": "10ada7f4-ebb2-49bd-ce10-edbc2b1d5d7d"
      },
      "execution_count": null,
      "outputs": [
        {
          "output_type": "execute_result",
          "data": {
            "text/plain": [
              "'GLN'"
            ],
            "application/vnd.google.colaboratory.intrinsic+json": {
              "type": "string"
            }
          },
          "metadata": {},
          "execution_count": 110
        }
      ]
    },
    {
      "cell_type": "code",
      "source": [
        "atoms = list(residueL[0].get_atoms())"
      ],
      "metadata": {
        "id": "by1UB0CUKj5B"
      },
      "execution_count": null,
      "outputs": []
    },
    {
      "cell_type": "code",
      "source": [
        "atoms"
      ],
      "metadata": {
        "colab": {
          "base_uri": "https://localhost:8080/"
        },
        "id": "_-jqkDeOKrkR",
        "outputId": "73af887a-6717-4324-a33b-21ec663b7f25"
      },
      "execution_count": null,
      "outputs": [
        {
          "output_type": "execute_result",
          "data": {
            "text/plain": [
              "[<Atom N>,\n",
              " <Atom CA>,\n",
              " <Atom C>,\n",
              " <Atom O>,\n",
              " <Atom CB>,\n",
              " <Atom CG>,\n",
              " <Atom OD1>,\n",
              " <Atom OD2>]"
            ]
          },
          "metadata": {},
          "execution_count": 112
        }
      ]
    },
    {
      "cell_type": "code",
      "source": [
        "atoms[0]"
      ],
      "metadata": {
        "colab": {
          "base_uri": "https://localhost:8080/"
        },
        "id": "ilCVx_o3KsJE",
        "outputId": "786ed0e0-cbb1-4a5f-ffdb-e4e70ae96d5a"
      },
      "execution_count": null,
      "outputs": [
        {
          "output_type": "execute_result",
          "data": {
            "text/plain": [
              "<Atom N>"
            ]
          },
          "metadata": {},
          "execution_count": 113
        }
      ]
    },
    {
      "cell_type": "code",
      "source": [
        "atoms[0].name"
      ],
      "metadata": {
        "colab": {
          "base_uri": "https://localhost:8080/",
          "height": 36
        },
        "id": "B1fD_ecRKuYy",
        "outputId": "4c40d219-503f-40c6-c211-6f62bf5c59f5"
      },
      "execution_count": null,
      "outputs": [
        {
          "output_type": "execute_result",
          "data": {
            "text/plain": [
              "'N'"
            ],
            "application/vnd.google.colaboratory.intrinsic+json": {
              "type": "string"
            }
          },
          "metadata": {},
          "execution_count": 114
        }
      ]
    },
    {
      "cell_type": "code",
      "source": [
        "atoms[0].coord"
      ],
      "metadata": {
        "colab": {
          "base_uri": "https://localhost:8080/"
        },
        "id": "JZdLRlbEKyHw",
        "outputId": "7ce9c806-30f0-4cd0-e2c2-f58b2ee550f7"
      },
      "execution_count": null,
      "outputs": [
        {
          "output_type": "execute_result",
          "data": {
            "text/plain": [
              "array([18.487, 73.26 , 44.156], dtype=float32)"
            ]
          },
          "metadata": {},
          "execution_count": 115
        }
      ]
    },
    {
      "cell_type": "code",
      "source": [
        "atoms[0].get_vector()\n"
      ],
      "metadata": {
        "colab": {
          "base_uri": "https://localhost:8080/"
        },
        "id": "uSmFtqe1K0vh",
        "outputId": "5bd52e89-5f71-4a0b-a161-20b0917c7a6d"
      },
      "execution_count": null,
      "outputs": [
        {
          "output_type": "execute_result",
          "data": {
            "text/plain": [
              "<Vector 18.49, 73.26, 44.16>"
            ]
          },
          "metadata": {},
          "execution_count": 116
        }
      ]
    },
    {
      "cell_type": "code",
      "source": [
        "atoms[0]-atoms[2]"
      ],
      "metadata": {
        "colab": {
          "base_uri": "https://localhost:8080/"
        },
        "id": "0rG4sO6vK4Wo",
        "outputId": "e7a9cd94-6402-4b17-fe8d-64d4b3fbde62"
      },
      "execution_count": null,
      "outputs": [
        {
          "output_type": "execute_result",
          "data": {
            "text/plain": [
              "2.4931633"
            ]
          },
          "metadata": {},
          "execution_count": 117
        }
      ]
    },
    {
      "cell_type": "code",
      "source": [],
      "metadata": {
        "id": "XVLabhAyK_se"
      },
      "execution_count": null,
      "outputs": []
    }
  ]
}